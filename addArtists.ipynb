{
 "cells": [
  {
   "cell_type": "code",
   "execution_count": 15,
   "metadata": {},
   "outputs": [],
   "source": [
    "import pandas as pd\n",
    "import csv"
   ]
  },
  {
   "cell_type": "code",
   "execution_count": 16,
   "metadata": {},
   "outputs": [
    {
     "name": "stdout",
     "output_type": "stream",
     "text": [
      "105\n"
     ]
    }
   ],
   "source": [
    "# Open the second CSV file for reading\n",
    "with open('addedArtists.csv', 'r', newline='') as addedArtists:\n",
    "    reader = csv.reader(addedArtists)\n",
    "    data_to_add = list(reader)\n",
    "\n",
    "\n",
    "# Open the first CSV file for appending\n",
    "with open('101.csv', 'a', newline='') as csv101:\n",
    "    writer = csv.writer(csv101)\n",
    "    writer.writerows(data_to_add)\n",
    "\n",
    "# Read the CSV file into a DataFrame\n",
    "csv101_df = pd.read_csv('101.csv')\n",
    "\n",
    "print(len(csv101_df))\n",
    "\n"
   ]
  }
 ],
 "metadata": {
  "kernelspec": {
   "display_name": "base",
   "language": "python",
   "name": "python3"
  },
  "language_info": {
   "codemirror_mode": {
    "name": "ipython",
    "version": 3
   },
   "file_extension": ".py",
   "mimetype": "text/x-python",
   "name": "python",
   "nbconvert_exporter": "python",
   "pygments_lexer": "ipython3",
   "version": "3.11.7"
  }
 },
 "nbformat": 4,
 "nbformat_minor": 2
}
